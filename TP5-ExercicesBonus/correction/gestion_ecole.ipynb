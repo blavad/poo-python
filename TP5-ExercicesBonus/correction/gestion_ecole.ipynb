{
 "cells": [
  {
   "cell_type": "markdown",
   "metadata": {},
   "source": [
    "## Exercice 1 : Logiciel de gestion d'une école"
   ]
  },
  {
   "cell_type": "code",
   "execution_count": 1,
   "metadata": {},
   "outputs": [],
   "source": [
    "class Etudiant:\n",
    "    def __init__(self, nom, prenom, ecole):\n",
    "        self.nom = nom\n",
    "        self.prenom = prenom\n",
    "        self.ecole = ecole\n",
    "        self.notes = [] # Liste vide au départ\n",
    "\n",
    "    def ajouter_note(self, note):\n",
    "        self.notes.append(note)\n",
    "\n",
    "    def calculer_moyenne(self):\n",
    "        sum_notes = 0\n",
    "        nb_notes = len(self.notes)\n",
    "        if nb_notes == 0:\n",
    "            print(\"Aucune note n'a été ajoutée.\")\n",
    "            return 0\n",
    "        else:\n",
    "            for i in range(nb_notes):\n",
    "                sum_notes = sum_notes + self.notes[i]\n",
    "            return sum_notes / nb_notes\n",
    "        \n",
    "\n",
    "    def afficher(self):\n",
    "        print(f\"{self.prenom} {self.nom} de l'école {self.ecole}\")"
   ]
  },
  {
   "cell_type": "code",
   "execution_count": 2,
   "metadata": {},
   "outputs": [
    {
     "name": "stdout",
     "output_type": "stream",
     "text": [
      "Thomas Pesquet de l'école ISAE-SUPAERO\n",
      "Moyenne : 15.25\n",
      "Bill Gates de l'école Harvard\n",
      "Moyenne : 18.5\n"
     ]
    }
   ],
   "source": [
    "bill = Etudiant(\"Gates\", \"Bill\", \"Harvard\")\n",
    "thomas = Etudiant(\"Pesquet\", \"Thomas\", \"ISAE-SUPAERO\")\n",
    "\n",
    "thomas.ajouter_note(15)\n",
    "thomas.ajouter_note(18)\n",
    "thomas.ajouter_note(12)\n",
    "thomas.ajouter_note(16)\n",
    "\n",
    "bill.ajouter_note(20)\n",
    "bill.ajouter_note(19)\n",
    "bill.ajouter_note(18)\n",
    "bill.ajouter_note(17)\n",
    "\n",
    "thomas.afficher()\n",
    "print(f\"Moyenne : {thomas.calculer_moyenne()}\")\n",
    "\n",
    "bill.afficher()\n",
    "print(f\"Moyenne : {bill.calculer_moyenne()}\")"
   ]
  },
  {
   "cell_type": "code",
   "execution_count": 5,
   "metadata": {},
   "outputs": [],
   "source": [
    "class Ecole:\n",
    "    def __init__(self, nom):\n",
    "        self.nom = nom\n",
    "        self.etudiants = []  # Liste vide au départ\n",
    "\n",
    "    def ajouter_etudiant(self, etudiant):\n",
    "        self.etudiants.append(etudiant)\n",
    "\n",
    "    def retirer_etudiant(self, etudiant):\n",
    "        if etudiant in self.etudiants:\n",
    "            self.etudiants.remove(etudiant)\n",
    "\n",
    "    def calculer_moyenne(self):\n",
    "        sum_moyennes = 0\n",
    "        nb_etudiants = len(self.etudiants)\n",
    "        if nb_etudiants == 0:\n",
    "            print(\"Aucun étudiant n'a été ajoutée.\")\n",
    "            return 0\n",
    "        else:\n",
    "            for i in range(nb_etudiants):\n",
    "                sum_moyennes = sum_moyennes + self.etudiants[i].calculer_moyenne()\n",
    "            return sum_moyennes / nb_etudiants\n",
    "\n",
    "    def afficher(self):\n",
    "        print(f\"L'école {self.nom} compte {len(self.etudiants)} étudiants\")\n",
    "\n",
    "    def afficher_liste_etudiants(self):\n",
    "        if len(self.etudiants) == 0:\n",
    "            print(\"Aucun étudiant inscrit.\")\n",
    "        else:\n",
    "            print(\"Liste des étudiants :\")\n",
    "            for etudiant in self.etudiants:\n",
    "                print(f\"- {etudiant.prenom} {etudiant.nom}\")"
   ]
  },
  {
   "cell_type": "code",
   "execution_count": 6,
   "metadata": {},
   "outputs": [
    {
     "name": "stdout",
     "output_type": "stream",
     "text": [
      "Moyenne de l'école : 16.875\n",
      "L'école GEMA compte 2 étudiants\n",
      "Liste des étudiants :\n",
      "- Thomas Pesquet\n",
      "- Bill Gates\n"
     ]
    }
   ],
   "source": [
    "gema = Ecole(\"GEMA\")\n",
    "gema.ajouter_etudiant(thomas)\n",
    "gema.ajouter_etudiant(bill)\n",
    "print(f\"Moyenne de l'école : {gema.calculer_moyenne()}\")\n",
    "gema.afficher()\n",
    "gema.afficher_liste_etudiants()\n"
   ]
  }
 ],
 "metadata": {
  "kernelspec": {
   "display_name": "Python 3",
   "language": "python",
   "name": "python3"
  },
  "language_info": {
   "codemirror_mode": {
    "name": "ipython",
    "version": 3
   },
   "file_extension": ".py",
   "mimetype": "text/x-python",
   "name": "python",
   "nbconvert_exporter": "python",
   "pygments_lexer": "ipython3",
   "version": "3.10.12"
  }
 },
 "nbformat": 4,
 "nbformat_minor": 2
}
